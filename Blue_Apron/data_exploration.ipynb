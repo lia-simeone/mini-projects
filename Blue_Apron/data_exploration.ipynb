{
 "cells": [
  {
   "cell_type": "code",
   "execution_count": 5,
   "metadata": {
    "collapsed": false
   },
   "outputs": [],
   "source": [
    "# import packages\n",
    "import numpy as np\n",
    "import pandas as pd"
   ]
  },
  {
   "cell_type": "code",
   "execution_count": null,
   "metadata": {
    "collapsed": true
   },
   "outputs": [],
   "source": [
    "# create dataframes\n",
    "user_history = pd.read_csv('user_fulfillment_history.csv')\n",
    "weekly_orders = pd.read_csv('weekly_orders.csv')\n",
    "weekly_user_pop = pd.read_csv('weekly_user_population.csv')"
   ]
  },
  {
   "cell_type": "code",
   "execution_count": 12,
   "metadata": {
    "collapsed": false
   },
   "outputs": [
    {
     "name": "stdout",
     "output_type": "stream",
     "text": [
      "size of user_history: (1629730, 3)\n",
      "size of weekly_orders: (9, 2)\n",
      "size of weekly_user_pop: (1356423, 3)\n"
     ]
    }
   ],
   "source": [
    "# check the size\n",
    "print \"size of user_history:\",user_history.shape\n",
    "print \"size of weekly_orders:\",weekly_orders.shape\n",
    "print \"size of weekly_user_pop:\",weekly_user_pop.shape"
   ]
  },
  {
   "cell_type": "code",
   "execution_count": 6,
   "metadata": {
    "collapsed": false
   },
   "outputs": [
    {
     "data": {
      "text/html": [
       "<div>\n",
       "<table border=\"1\" class=\"dataframe\">\n",
       "  <thead>\n",
       "    <tr style=\"text-align: right;\">\n",
       "      <th></th>\n",
       "      <th>user_id</th>\n",
       "      <th>week_index</th>\n",
       "      <th>was_shipped</th>\n",
       "    </tr>\n",
       "  </thead>\n",
       "  <tbody>\n",
       "    <tr>\n",
       "      <th>0</th>\n",
       "      <td>ce5af017002483b7086e78d808cd936c2fb718ba</td>\n",
       "      <td>7</td>\n",
       "      <td>1</td>\n",
       "    </tr>\n",
       "    <tr>\n",
       "      <th>1</th>\n",
       "      <td>1bc670e7150897357762e56c906cb3bb78a6476e</td>\n",
       "      <td>7</td>\n",
       "      <td>1</td>\n",
       "    </tr>\n",
       "    <tr>\n",
       "      <th>2</th>\n",
       "      <td>c4facee283b89242e064c77cf851fbddac11b61b</td>\n",
       "      <td>7</td>\n",
       "      <td>0</td>\n",
       "    </tr>\n",
       "    <tr>\n",
       "      <th>3</th>\n",
       "      <td>528d17a6d18526f2507edeec7e97da20a4f6c176</td>\n",
       "      <td>7</td>\n",
       "      <td>0</td>\n",
       "    </tr>\n",
       "    <tr>\n",
       "      <th>4</th>\n",
       "      <td>9e5cf731e07e48ee65b7c75c44777c99721a4a7a</td>\n",
       "      <td>7</td>\n",
       "      <td>0</td>\n",
       "    </tr>\n",
       "    <tr>\n",
       "      <th>5</th>\n",
       "      <td>9e8ad0e1328f3e199071e1d8e5866423a5ddd5e2</td>\n",
       "      <td>7</td>\n",
       "      <td>0</td>\n",
       "    </tr>\n",
       "    <tr>\n",
       "      <th>6</th>\n",
       "      <td>d9fb728264f11f0036773852cb3a3caa9bbe4c30</td>\n",
       "      <td>7</td>\n",
       "      <td>1</td>\n",
       "    </tr>\n",
       "    <tr>\n",
       "      <th>7</th>\n",
       "      <td>22a8640fddfb90668d41eb74919bf5d8834bdda7</td>\n",
       "      <td>7</td>\n",
       "      <td>0</td>\n",
       "    </tr>\n",
       "    <tr>\n",
       "      <th>8</th>\n",
       "      <td>f89aa09b0e3002d952d5694971a337ae507761fc</td>\n",
       "      <td>7</td>\n",
       "      <td>0</td>\n",
       "    </tr>\n",
       "    <tr>\n",
       "      <th>9</th>\n",
       "      <td>838b5f82680d3344d2e7094a85d29b81c5488cf9</td>\n",
       "      <td>7</td>\n",
       "      <td>0</td>\n",
       "    </tr>\n",
       "  </tbody>\n",
       "</table>\n",
       "</div>"
      ],
      "text/plain": [
       "                                    user_id  week_index  was_shipped\n",
       "0  ce5af017002483b7086e78d808cd936c2fb718ba           7            1\n",
       "1  1bc670e7150897357762e56c906cb3bb78a6476e           7            1\n",
       "2  c4facee283b89242e064c77cf851fbddac11b61b           7            0\n",
       "3  528d17a6d18526f2507edeec7e97da20a4f6c176           7            0\n",
       "4  9e5cf731e07e48ee65b7c75c44777c99721a4a7a           7            0\n",
       "5  9e8ad0e1328f3e199071e1d8e5866423a5ddd5e2           7            0\n",
       "6  d9fb728264f11f0036773852cb3a3caa9bbe4c30           7            1\n",
       "7  22a8640fddfb90668d41eb74919bf5d8834bdda7           7            0\n",
       "8  f89aa09b0e3002d952d5694971a337ae507761fc           7            0\n",
       "9  838b5f82680d3344d2e7094a85d29b81c5488cf9           7            0"
      ]
     },
     "execution_count": 6,
     "metadata": {},
     "output_type": "execute_result"
    }
   ],
   "source": [
    "# look at the user history data\n",
    "# remember the week index is relative to user's sign up!\n",
    "user_history.head(10)"
   ]
  },
  {
   "cell_type": "code",
   "execution_count": 31,
   "metadata": {
    "collapsed": false
   },
   "outputs": [
    {
     "data": {
      "text/plain": [
       "b6a50aa179ce2d54ed589fb37efd927b7cc4b4d4    10\n",
       "9af0285c4792e89c454c268705f5f5c3e864b00b    10\n",
       "6b50fc0ea9b8556cd69b6f69dad058876122a63f    10\n",
       "53564cd8dfb5b95717347fce94e8880e2ae382ad    10\n",
       "f68948509bbc5cdbdbd1c857f595673a3276026a    10\n",
       "34d493a5f99ccff6ad51b5db3f953ae3feb90653    10\n",
       "cee56f438bd3a1b3f669f5ae5ac9563c52877206    10\n",
       "7b75d528dc3788938f7c3d2eb3c10a2ebb1f4de1    10\n",
       "a7fb0a5dcc5551a56a16ceb9b6b27855658be010    10\n",
       "7934538f5f552762d8f15bf232696eeb6e145cdb    10\n",
       "673de5dea0848fae0d3026d3a6813c755f4c2624    10\n",
       "b11c65553b11a09152fc12359c68d9ad6f320901    10\n",
       "11b1eea316144a4468a35ea2e30a0b8daed9c484    10\n",
       "6809c6713371ef8eed4c1e71a48fe8583685f9fc    10\n",
       "891abd61ca54e549b727ccdc8051bded97b8f722    10\n",
       "62721b87964004bf4f69bfc8ff53957e804481b9    10\n",
       "76bb3856bf15cab9993f5b452144a60c5a8793cb    10\n",
       "22767a7658c5f82b20cb5f9b86ca59e7c076bd4c    10\n",
       "b6beb41a9d9311fdef5d92641f3bd3a2d04ca582    10\n",
       "9eab5dca8d914de34e25e86c71679cbb76a05d25    10\n",
       "9595387fa8dfa443f6c91dadf09d9dfb616394c8    10\n",
       "8f272bca48af148f2ffbc7fe655b7fbfefaace8a    10\n",
       "e7bc278f1a4623479103d28d8e34fc641a48c46f    10\n",
       "84d559224a9aa557b67785659ba16ef24e282d7f    10\n",
       "8c72cb311ffa7112c68aad7c5a3099258ae27a2f    10\n",
       "855e693d43492803bc5d18fa24ef52895841824e    10\n",
       "49a626be3e2c4dc72c2679d4ab6a235612172f3a    10\n",
       "ff7e58dc1484ff0f436fac0fda9830a23526e92d    10\n",
       "b67ae29e15101d2582511d769ece66c9f56084a4    10\n",
       "f3b130598c5c51cf64a1a8b6124d8f359dea0371    10\n",
       "                                            ..\n",
       "20a8e5edb09e90a1c7ff6118f6a2a3b888ebc919    10\n",
       "2b8af9b1ed23fcac531bffd7386c62b6c6329abd    10\n",
       "16215a4571ad7d5b66368c60d867fb31e49fa67e    10\n",
       "4009be684ac8cd3fc64e26bace9db62b9ccfd9e7    10\n",
       "de4317c13efaa256f30a9e952e54f0b6b7263118    10\n",
       "04befd03b225f237272cdcca97c2c5f07ff5b2c2    10\n",
       "257d62a0137ef8e35e7eb0113a37e46a9699bfec    10\n",
       "7cdecd62521f44c3e0be4ab76d9fc7d374d093aa    10\n",
       "944fda56815525b68b66fd9aa90e4b13348186f2    10\n",
       "7db45f5821dc28ff720cea82b8c78f25487f9b0e    10\n",
       "503e956d0bb71fa46e4778b8dfa49c1eea50b936    10\n",
       "21ff2fc02611a3d76472713512efc58e671033f6    10\n",
       "0931474c5d292b9a2abf2627f72a2a18368c8aa2    10\n",
       "e23e374dc547b9a93139fb5f7a9df8a50f9236a4    10\n",
       "4bc5181da9552f67194c8756b24e753972412dcb    10\n",
       "c2ddfbcb1118ef1e50c07f82e3fe383d2125dfbf    10\n",
       "694f4f1100428e55bb99330d336585af2780ad59    10\n",
       "28d5f132ea7136320ef2897bb3f7d725d4e2160d    10\n",
       "569085e3225a53024fd4bc4de5e2f6ff77ecf9db    10\n",
       "dc88548836ca087fa1bb965d12885321362d90a1    10\n",
       "a417fd5fb4635cf2d33b8aaf11d299cb77f4d215    10\n",
       "f7933c50592701cd3f8361189660bb7176cae35d    10\n",
       "f7d2e9395f12f77b55d3d7b7d7cc751599f15d31    10\n",
       "bb899f5c3679ef4d91f59de966f1ae5c0162e219    10\n",
       "354e64cdb417f37ff58d79db89110978797a2ef2    10\n",
       "0cbc66dc03e81d71727cb54c2a452f60f5cf0ae1    10\n",
       "8aaa216be54be2263ed646bcb07421ce6429b9e0    10\n",
       "b747fa8c72d4bc109503dad161f89fba1b5144e1    10\n",
       "0a3f2aa8e8687b00255169d9a4aff3430da12eeb    10\n",
       "7e0618abd0be3ac1fb62b79c17227c1d62211c30    10\n",
       "dtype: int64"
      ]
     },
     "execution_count": 31,
     "metadata": {},
     "output_type": "execute_result"
    }
   ],
   "source": [
    "# Check the number of rows for each user\n",
    "# All users have 10 weeks of historical data\n",
    "user_history['user_id'].value_counts(ascending=True)"
   ]
  },
  {
   "cell_type": "code",
   "execution_count": 37,
   "metadata": {
    "collapsed": false
   },
   "outputs": [
    {
     "data": {
      "text/html": [
       "<div>\n",
       "<table border=\"1\" class=\"dataframe\">\n",
       "  <thead>\n",
       "    <tr style=\"text-align: right;\">\n",
       "      <th></th>\n",
       "      <th>user_id</th>\n",
       "      <th>week_index</th>\n",
       "      <th>was_shipped</th>\n",
       "    </tr>\n",
       "  </thead>\n",
       "  <tbody>\n",
       "    <tr>\n",
       "      <th>1589613</th>\n",
       "      <td>b6a50aa179ce2d54ed589fb37efd927b7cc4b4d4</td>\n",
       "      <td>1</td>\n",
       "      <td>0</td>\n",
       "    </tr>\n",
       "    <tr>\n",
       "      <th>414294</th>\n",
       "      <td>b6a50aa179ce2d54ed589fb37efd927b7cc4b4d4</td>\n",
       "      <td>2</td>\n",
       "      <td>1</td>\n",
       "    </tr>\n",
       "    <tr>\n",
       "      <th>1551587</th>\n",
       "      <td>b6a50aa179ce2d54ed589fb37efd927b7cc4b4d4</td>\n",
       "      <td>3</td>\n",
       "      <td>1</td>\n",
       "    </tr>\n",
       "    <tr>\n",
       "      <th>196694</th>\n",
       "      <td>b6a50aa179ce2d54ed589fb37efd927b7cc4b4d4</td>\n",
       "      <td>4</td>\n",
       "      <td>1</td>\n",
       "    </tr>\n",
       "    <tr>\n",
       "      <th>220948</th>\n",
       "      <td>b6a50aa179ce2d54ed589fb37efd927b7cc4b4d4</td>\n",
       "      <td>5</td>\n",
       "      <td>1</td>\n",
       "    </tr>\n",
       "    <tr>\n",
       "      <th>32381</th>\n",
       "      <td>b6a50aa179ce2d54ed589fb37efd927b7cc4b4d4</td>\n",
       "      <td>6</td>\n",
       "      <td>1</td>\n",
       "    </tr>\n",
       "    <tr>\n",
       "      <th>837219</th>\n",
       "      <td>b6a50aa179ce2d54ed589fb37efd927b7cc4b4d4</td>\n",
       "      <td>7</td>\n",
       "      <td>1</td>\n",
       "    </tr>\n",
       "    <tr>\n",
       "      <th>158518</th>\n",
       "      <td>b6a50aa179ce2d54ed589fb37efd927b7cc4b4d4</td>\n",
       "      <td>8</td>\n",
       "      <td>1</td>\n",
       "    </tr>\n",
       "    <tr>\n",
       "      <th>541557</th>\n",
       "      <td>b6a50aa179ce2d54ed589fb37efd927b7cc4b4d4</td>\n",
       "      <td>9</td>\n",
       "      <td>1</td>\n",
       "    </tr>\n",
       "    <tr>\n",
       "      <th>592601</th>\n",
       "      <td>b6a50aa179ce2d54ed589fb37efd927b7cc4b4d4</td>\n",
       "      <td>10</td>\n",
       "      <td>1</td>\n",
       "    </tr>\n",
       "  </tbody>\n",
       "</table>\n",
       "</div>"
      ],
      "text/plain": [
       "                                          user_id  week_index  was_shipped\n",
       "1589613  b6a50aa179ce2d54ed589fb37efd927b7cc4b4d4           1            0\n",
       "414294   b6a50aa179ce2d54ed589fb37efd927b7cc4b4d4           2            1\n",
       "1551587  b6a50aa179ce2d54ed589fb37efd927b7cc4b4d4           3            1\n",
       "196694   b6a50aa179ce2d54ed589fb37efd927b7cc4b4d4           4            1\n",
       "220948   b6a50aa179ce2d54ed589fb37efd927b7cc4b4d4           5            1\n",
       "32381    b6a50aa179ce2d54ed589fb37efd927b7cc4b4d4           6            1\n",
       "837219   b6a50aa179ce2d54ed589fb37efd927b7cc4b4d4           7            1\n",
       "158518   b6a50aa179ce2d54ed589fb37efd927b7cc4b4d4           8            1\n",
       "541557   b6a50aa179ce2d54ed589fb37efd927b7cc4b4d4           9            1\n",
       "592601   b6a50aa179ce2d54ed589fb37efd927b7cc4b4d4          10            1"
      ]
     },
     "execution_count": 37,
     "metadata": {},
     "output_type": "execute_result"
    }
   ],
   "source": [
    "# check out one user\n",
    "# looks good. I wonder why the first week is 0. It seems weird to sign up and skip your first week, right?\n",
    "# Maybe no one gets a delivery in their first week?\n",
    "user_history[user_history['user_id'] == 'b6a50aa179ce2d54ed589fb37efd927b7cc4b4d4'].sort('week_index')"
   ]
  },
  {
   "cell_type": "code",
   "execution_count": 38,
   "metadata": {
    "collapsed": false
   },
   "outputs": [
    {
     "data": {
      "text/plain": [
       "week_index  was_shipped\n",
       "1           0               48027\n",
       "            1              114946\n",
       "2           0               83434\n",
       "            1               79539\n",
       "3           0              101371\n",
       "            1               61602\n",
       "4           0              111223\n",
       "            1               51750\n",
       "5           0              117389\n",
       "            1               45584\n",
       "6           0              122355\n",
       "            1               40618\n",
       "7           0              124038\n",
       "            1               38935\n",
       "8           0              126000\n",
       "            1               36973\n",
       "9           0              128599\n",
       "            1               34374\n",
       "10          0              131155\n",
       "            1               31818\n",
       "dtype: int64"
      ]
     },
     "execution_count": 38,
     "metadata": {},
     "output_type": "execute_result"
    }
   ],
   "source": [
    "# Nope, most users got their order the first week. I guess it's a timing issue or customers opt-out for some reason.\n",
    "# Other interesting things to note - there's a continuous drop-off in ordering, but it's biggest at week 2\n",
    "user_history.groupby(['week_index','was_shipped']).size()"
   ]
  },
  {
   "cell_type": "code",
   "execution_count": 13,
   "metadata": {
    "collapsed": false
   },
   "outputs": [
    {
     "data": {
      "text/html": [
       "<div>\n",
       "<table border=\"1\" class=\"dataframe\">\n",
       "  <thead>\n",
       "    <tr style=\"text-align: right;\">\n",
       "      <th></th>\n",
       "      <th>week_id</th>\n",
       "      <th>user_id</th>\n",
       "      <th>user_age</th>\n",
       "    </tr>\n",
       "  </thead>\n",
       "  <tbody>\n",
       "    <tr>\n",
       "      <th>0</th>\n",
       "      <td>F</td>\n",
       "      <td>7372ddc490196340f648714b0296738fe8d6b37a</td>\n",
       "      <td>1</td>\n",
       "    </tr>\n",
       "    <tr>\n",
       "      <th>1</th>\n",
       "      <td>F</td>\n",
       "      <td>4e2a2719587033e34fc63ef36418d61511f8e84b</td>\n",
       "      <td>1</td>\n",
       "    </tr>\n",
       "    <tr>\n",
       "      <th>2</th>\n",
       "      <td>C</td>\n",
       "      <td>410b04481e2a365cf30c7ba36e8ec10ffac00fd1</td>\n",
       "      <td>1</td>\n",
       "    </tr>\n",
       "    <tr>\n",
       "      <th>3</th>\n",
       "      <td>H</td>\n",
       "      <td>008fceb71435634bb3a029b60e2b448cb383ccac</td>\n",
       "      <td>1</td>\n",
       "    </tr>\n",
       "    <tr>\n",
       "      <th>4</th>\n",
       "      <td>B</td>\n",
       "      <td>89b7f1d4da4d0216c41cbc3c7b72f82006e00106</td>\n",
       "      <td>1</td>\n",
       "    </tr>\n",
       "    <tr>\n",
       "      <th>5</th>\n",
       "      <td>B</td>\n",
       "      <td>b318441cc549d19878eace21dce807cd11e9567c</td>\n",
       "      <td>1</td>\n",
       "    </tr>\n",
       "    <tr>\n",
       "      <th>6</th>\n",
       "      <td>H</td>\n",
       "      <td>78d9e4ed6170fe575a459811147d50d5faa11ecc</td>\n",
       "      <td>1</td>\n",
       "    </tr>\n",
       "    <tr>\n",
       "      <th>7</th>\n",
       "      <td>G</td>\n",
       "      <td>a9e50146bcbf132dec17169ce5681abf6332bf1b</td>\n",
       "      <td>1</td>\n",
       "    </tr>\n",
       "    <tr>\n",
       "      <th>8</th>\n",
       "      <td>G</td>\n",
       "      <td>c41788a2229ccba498386908eb592d66ce9de938</td>\n",
       "      <td>1</td>\n",
       "    </tr>\n",
       "    <tr>\n",
       "      <th>9</th>\n",
       "      <td>I</td>\n",
       "      <td>627c4a1b779da3e79c7c78a5abd96c2e447ec9cf</td>\n",
       "      <td>1</td>\n",
       "    </tr>\n",
       "  </tbody>\n",
       "</table>\n",
       "</div>"
      ],
      "text/plain": [
       "  week_id                                   user_id  user_age\n",
       "0       F  7372ddc490196340f648714b0296738fe8d6b37a         1\n",
       "1       F  4e2a2719587033e34fc63ef36418d61511f8e84b         1\n",
       "2       C  410b04481e2a365cf30c7ba36e8ec10ffac00fd1         1\n",
       "3       H  008fceb71435634bb3a029b60e2b448cb383ccac         1\n",
       "4       B  89b7f1d4da4d0216c41cbc3c7b72f82006e00106         1\n",
       "5       B  b318441cc549d19878eace21dce807cd11e9567c         1\n",
       "6       H  78d9e4ed6170fe575a459811147d50d5faa11ecc         1\n",
       "7       G  a9e50146bcbf132dec17169ce5681abf6332bf1b         1\n",
       "8       G  c41788a2229ccba498386908eb592d66ce9de938         1\n",
       "9       I  627c4a1b779da3e79c7c78a5abd96c2e447ec9cf         1"
      ]
     },
     "execution_count": 13,
     "metadata": {},
     "output_type": "execute_result"
    }
   ],
   "source": [
    "# look at the weekly user data\n",
    "weekly_user_pop.head(10)"
   ]
  },
  {
   "cell_type": "code",
   "execution_count": 30,
   "metadata": {
    "collapsed": false
   },
   "outputs": [
    {
     "data": {
      "text/plain": [
       "3819a2cb2b728ccb7924c754b9f6134a6cda3e1d     1\n",
       "b4ba79cde0ba51505e4958604c82f90928320349     1\n",
       "a10b7765bb9b0954a92ecab829293a0fb46eb48b     1\n",
       "1d61eaffe76816e6c74c54105bd52628e8d35c62     1\n",
       "38fe0d603a07de5f62c9882291aac79a46f5dce0     1\n",
       "6db9f0f46d58cc78a2eca736023571f427a6b7be     1\n",
       "b6cbe37dd59ea52822e9ae372a6ceab50c03a492     1\n",
       "310e77356a190e45671e3cfdb5e0c671c19177b3     1\n",
       "f64a8ee2c6e0356a449143eff698fb984ed81ef3     1\n",
       "f3454e750fb02d9bb59a0961c92d6bdb36870065     1\n",
       "6fe1394a846223fc32a374ff974903755269cfd2     1\n",
       "f1a079e5f4f184e2ce3229a4962cbe26c3251c1f     1\n",
       "936cf5251ade09d378aa9f13f1415e6c2980d1c0     1\n",
       "83ea30d0f749c918688a35afefeff9a5f943afaf     1\n",
       "ca8b617055edc06b8a3dc0075b1ded98e4d1df6c     1\n",
       "4e214d23e24eae37ad427af415afa04844e788b9     1\n",
       "d0c191a8d656b84597b9c822fa8864fca27c6420     1\n",
       "3f3c70dbc7fed240d49731fa5dee603eb10c9b07     1\n",
       "1ebe5201232d80ffc06f76e6bc9aca9e97d10cd4     1\n",
       "8cbc0f45db0acccf85ac8bede7355249ad846f54     1\n",
       "2bb65fc89b410163440d6205b3b2da4fa9f7538a     1\n",
       "d9c80c773a407926f15532dbee9c35d5f2999982     1\n",
       "60deb1d8d9fe5d451d6bc253e18738668b62a5ea     1\n",
       "e302ecc3049b55c6f4bdb9db5e594afff6a5e240     1\n",
       "e82f29a92c6e885d030ba472ad800d95621dda69     1\n",
       "9651de738e76ba21f2f6d255600b7f38bd2ee2af     1\n",
       "9f6a664c177f8e3dbaf4fc955bb0e7d5804662a6     1\n",
       "682f63fbbf51fee96d4e829ad14c3f641b248d23     1\n",
       "f8b760fb3232fe7da9e765b44c502f3d5db8172f     1\n",
       "232166c8fa7b60c66fdc1ef11802fece9760101a     1\n",
       "                                            ..\n",
       "f323a2afee2f4140ca61c04b8784066c75a28ae2    18\n",
       "4318e448e422ae722c0380a6d7412151c79b5645    18\n",
       "6130ffb754555ed2563957f7c2ef3ab7df4113a3    18\n",
       "c518177a5331a512da94226d682960a56f436347    18\n",
       "9e7478662f39ad1bdd145933c165c14097aea560    18\n",
       "38a9c7bc1e523af629e1baaf3ca6afb6edd66697    18\n",
       "c776d6c5456e13031efb807e3aa67e4137b7a3bb    18\n",
       "536545264ba0939f39b1e778337c71f1aaa4a293    18\n",
       "eea6220cbf03656302265dfcec71642d887395a9    18\n",
       "0f3aeb7e9d1a3dbd13dd6223bae330e3306a39a2    18\n",
       "08ac7859f9d224c7b7770b5d9c51a4015aae835e    18\n",
       "c4b96e90caff15b001aaf58af2cd05752cd1a662    18\n",
       "058232a91d80caa5546a757e9d97a728c2d41d7a    18\n",
       "de31a01553b014fe54382005b34d427e89a715f3    18\n",
       "6a40f49ddaa13f6835280e8063a7cef22b2a080a    18\n",
       "b8b0bb424ef540baa4fada16ac5a98121090bab3    18\n",
       "6b9ca794325e7783ecd6fff9042552db4f5ee699    18\n",
       "aff06ee4c14e891baf9b28b294bdd86f83159270    18\n",
       "c261adb597594689837ffbe4575fb1eaefe06471    18\n",
       "5c8192f0c4bd4e358c686ec959cb2755285ee0d3    18\n",
       "1c75f11c77243ef5cbee08724a4c8974c210fc77    18\n",
       "49c3dbfd135bdc3765c1709e30621fcd88389277    18\n",
       "4aedde325ec95d8b368c0c6271c716d5d56a6b78    18\n",
       "38aa4ef65758caf9e1ea60412e8bd9f9d86f956f    18\n",
       "aecc886f78fcbed24c621783682e07959fc61a28    18\n",
       "f8bfe76b203df1011d21c07f5e315587b121304c    18\n",
       "030425b87342cede8f477e90960e387bd2a01589    18\n",
       "4b6a1977efbc2720ef13a397800ebc3bf70de811    18\n",
       "283d3cf123871fec609c0737794867b1df4ccab4    18\n",
       "764c337820d220da546dd681bd9648b261ad08e9    18\n",
       "dtype: int64"
      ]
     },
     "execution_count": 30,
     "metadata": {},
     "output_type": "execute_result"
    }
   ],
   "source": [
    "# check the frequency by user\n",
    "# users have between 1 and 18 weeks worth of history. Is that right?\n",
    "weekly_user_pop['user_id'].value_counts(ascending=True)"
   ]
  },
  {
   "cell_type": "code",
   "execution_count": 35,
   "metadata": {
    "collapsed": false
   },
   "outputs": [
    {
     "data": {
      "text/html": [
       "<div>\n",
       "<table border=\"1\" class=\"dataframe\">\n",
       "  <thead>\n",
       "    <tr style=\"text-align: right;\">\n",
       "      <th></th>\n",
       "      <th>week_id</th>\n",
       "      <th>user_id</th>\n",
       "      <th>user_age</th>\n",
       "    </tr>\n",
       "  </thead>\n",
       "  <tbody>\n",
       "    <tr>\n",
       "      <th>73977</th>\n",
       "      <td>A</td>\n",
       "      <td>f323a2afee2f4140ca61c04b8784066c75a28ae2</td>\n",
       "      <td>5</td>\n",
       "    </tr>\n",
       "    <tr>\n",
       "      <th>73970</th>\n",
       "      <td>A</td>\n",
       "      <td>f323a2afee2f4140ca61c04b8784066c75a28ae2</td>\n",
       "      <td>5</td>\n",
       "    </tr>\n",
       "    <tr>\n",
       "      <th>73982</th>\n",
       "      <td>B</td>\n",
       "      <td>f323a2afee2f4140ca61c04b8784066c75a28ae2</td>\n",
       "      <td>6</td>\n",
       "    </tr>\n",
       "    <tr>\n",
       "      <th>73978</th>\n",
       "      <td>B</td>\n",
       "      <td>f323a2afee2f4140ca61c04b8784066c75a28ae2</td>\n",
       "      <td>6</td>\n",
       "    </tr>\n",
       "    <tr>\n",
       "      <th>73968</th>\n",
       "      <td>C</td>\n",
       "      <td>f323a2afee2f4140ca61c04b8784066c75a28ae2</td>\n",
       "      <td>7</td>\n",
       "    </tr>\n",
       "    <tr>\n",
       "      <th>73972</th>\n",
       "      <td>C</td>\n",
       "      <td>f323a2afee2f4140ca61c04b8784066c75a28ae2</td>\n",
       "      <td>7</td>\n",
       "    </tr>\n",
       "    <tr>\n",
       "      <th>73971</th>\n",
       "      <td>D</td>\n",
       "      <td>f323a2afee2f4140ca61c04b8784066c75a28ae2</td>\n",
       "      <td>8</td>\n",
       "    </tr>\n",
       "    <tr>\n",
       "      <th>73976</th>\n",
       "      <td>D</td>\n",
       "      <td>f323a2afee2f4140ca61c04b8784066c75a28ae2</td>\n",
       "      <td>8</td>\n",
       "    </tr>\n",
       "    <tr>\n",
       "      <th>73974</th>\n",
       "      <td>E</td>\n",
       "      <td>f323a2afee2f4140ca61c04b8784066c75a28ae2</td>\n",
       "      <td>9</td>\n",
       "    </tr>\n",
       "    <tr>\n",
       "      <th>73975</th>\n",
       "      <td>E</td>\n",
       "      <td>f323a2afee2f4140ca61c04b8784066c75a28ae2</td>\n",
       "      <td>9</td>\n",
       "    </tr>\n",
       "    <tr>\n",
       "      <th>73966</th>\n",
       "      <td>F</td>\n",
       "      <td>f323a2afee2f4140ca61c04b8784066c75a28ae2</td>\n",
       "      <td>10</td>\n",
       "    </tr>\n",
       "    <tr>\n",
       "      <th>73981</th>\n",
       "      <td>F</td>\n",
       "      <td>f323a2afee2f4140ca61c04b8784066c75a28ae2</td>\n",
       "      <td>10</td>\n",
       "    </tr>\n",
       "    <tr>\n",
       "      <th>73965</th>\n",
       "      <td>G</td>\n",
       "      <td>f323a2afee2f4140ca61c04b8784066c75a28ae2</td>\n",
       "      <td>11</td>\n",
       "    </tr>\n",
       "    <tr>\n",
       "      <th>73969</th>\n",
       "      <td>G</td>\n",
       "      <td>f323a2afee2f4140ca61c04b8784066c75a28ae2</td>\n",
       "      <td>11</td>\n",
       "    </tr>\n",
       "    <tr>\n",
       "      <th>73979</th>\n",
       "      <td>H</td>\n",
       "      <td>f323a2afee2f4140ca61c04b8784066c75a28ae2</td>\n",
       "      <td>12</td>\n",
       "    </tr>\n",
       "    <tr>\n",
       "      <th>73973</th>\n",
       "      <td>H</td>\n",
       "      <td>f323a2afee2f4140ca61c04b8784066c75a28ae2</td>\n",
       "      <td>12</td>\n",
       "    </tr>\n",
       "    <tr>\n",
       "      <th>73967</th>\n",
       "      <td>I</td>\n",
       "      <td>f323a2afee2f4140ca61c04b8784066c75a28ae2</td>\n",
       "      <td>13</td>\n",
       "    </tr>\n",
       "    <tr>\n",
       "      <th>73980</th>\n",
       "      <td>I</td>\n",
       "      <td>f323a2afee2f4140ca61c04b8784066c75a28ae2</td>\n",
       "      <td>13</td>\n",
       "    </tr>\n",
       "  </tbody>\n",
       "</table>\n",
       "</div>"
      ],
      "text/plain": [
       "      week_id                                   user_id  user_age\n",
       "73977       A  f323a2afee2f4140ca61c04b8784066c75a28ae2         5\n",
       "73970       A  f323a2afee2f4140ca61c04b8784066c75a28ae2         5\n",
       "73982       B  f323a2afee2f4140ca61c04b8784066c75a28ae2         6\n",
       "73978       B  f323a2afee2f4140ca61c04b8784066c75a28ae2         6\n",
       "73968       C  f323a2afee2f4140ca61c04b8784066c75a28ae2         7\n",
       "73972       C  f323a2afee2f4140ca61c04b8784066c75a28ae2         7\n",
       "73971       D  f323a2afee2f4140ca61c04b8784066c75a28ae2         8\n",
       "73976       D  f323a2afee2f4140ca61c04b8784066c75a28ae2         8\n",
       "73974       E  f323a2afee2f4140ca61c04b8784066c75a28ae2         9\n",
       "73975       E  f323a2afee2f4140ca61c04b8784066c75a28ae2         9\n",
       "73966       F  f323a2afee2f4140ca61c04b8784066c75a28ae2        10\n",
       "73981       F  f323a2afee2f4140ca61c04b8784066c75a28ae2        10\n",
       "73965       G  f323a2afee2f4140ca61c04b8784066c75a28ae2        11\n",
       "73969       G  f323a2afee2f4140ca61c04b8784066c75a28ae2        11\n",
       "73979       H  f323a2afee2f4140ca61c04b8784066c75a28ae2        12\n",
       "73973       H  f323a2afee2f4140ca61c04b8784066c75a28ae2        12\n",
       "73967       I  f323a2afee2f4140ca61c04b8784066c75a28ae2        13\n",
       "73980       I  f323a2afee2f4140ca61c04b8784066c75a28ae2        13"
      ]
     },
     "execution_count": 35,
     "metadata": {},
     "output_type": "execute_result"
    }
   ],
   "source": [
    "# Look at one of the users that has 18 entries\n",
    "# Huh that's weird - looks like duplicates\n",
    "weekly_user_pop[weekly_user_pop['user_id'] == 'f323a2afee2f4140ca61c04b8784066c75a28ae2'].sort('user_age')"
   ]
  },
  {
   "cell_type": "code",
   "execution_count": 32,
   "metadata": {
    "collapsed": false
   },
   "outputs": [
    {
     "data": {
      "text/plain": [
       "A    123374\n",
       "B    130879\n",
       "C    137852\n",
       "D    144918\n",
       "E    151756\n",
       "F    159025\n",
       "G    165033\n",
       "H    169548\n",
       "I    174038\n",
       "dtype: int64"
      ]
     },
     "execution_count": 32,
     "metadata": {},
     "output_type": "execute_result"
    }
   ],
   "source": [
    "# how many weeks are there total?\n",
    "# 9 so anyone with more than 9 weeks must have duplicates\n",
    "weekly_user_pop['week_id'].value_counts(ascending=True)"
   ]
  },
  {
   "cell_type": "code",
   "execution_count": 49,
   "metadata": {
    "collapsed": false
   },
   "outputs": [],
   "source": [
    "# remove the duplicates - this function should only remove exact copies which will verify my theory\n",
    "weekly_user_pop_dedupe = weekly_user_pop.drop_duplicates()"
   ]
  },
  {
   "cell_type": "code",
   "execution_count": 48,
   "metadata": {
    "collapsed": false
   },
   "outputs": [
    {
     "data": {
      "text/plain": [
       "70bc09934ed82bf921562c580c3b4c78c1a544dc    9\n",
       "f311f1a9d1887d85c93c20943698dbf1a989da69    9\n",
       "2cd05981241e7d295e59dc95b1355dbb96c6ee00    9\n",
       "c81e686d2c75db3fe43ecfec4c1fed2775e94c48    9\n",
       "8c18ea8d39f7b39c82be0947bf06637e78fa9991    9\n",
       "0eace660ce9a789749a83af30457a09356a67e85    9\n",
       "4986f1076a26289039b168a84905f9ab93723cab    9\n",
       "44e1cff812570fbb9c76497b38428885ee2c09d3    9\n",
       "8a87be37225cc246dc10c2336fabf62a8df3bac4    9\n",
       "76ab12b84da103d2c41ba50e0bed8695d994dcc8    9\n",
       "1a199031e3daa9a55f25d49ef77041767e3dc11d    9\n",
       "bf5d794313f7ba4b785962bc28afeb09fa5d56ba    9\n",
       "e9d0a5c1bec7dd6c8c2e07bff4e7efbc5ce5b937    9\n",
       "950b7156954b0687fd697f6e818d6fa4f7e0c524    9\n",
       "7ba06d95faf4046f97bd87fba062307521f33ce0    9\n",
       "138621b58389d30df867afa49c2019305a29bff9    9\n",
       "cb3bfb0b184eea5241c8dbb96eb142698eb3ecc5    9\n",
       "cd3e5ef84fe75ed43cf9580fa2ffb99e498f13bd    9\n",
       "22c8b87a5e22a005d0f7beab50ac100fffb53efc    9\n",
       "1bdc2a16d598b9575ec4515445b911bd6399901b    9\n",
       "7ed7dfe2a0ca271e0b1fb57d7b251f0a8bd340ad    9\n",
       "ddf9d43683b0b5bfbd6ae40f26275184f7076fa4    9\n",
       "5235761b839a1ffe0953041e1aae4a8212155983    9\n",
       "3cd8a7a33e812863653e35d2b6a26137a7aa50b9    9\n",
       "4a33db9b3d5434ff774980ccffdeffaea5c76c48    9\n",
       "cd7175ebfb8d0b3cb18be93b73ce2c1d9119e5cb    9\n",
       "cf643a5503a02d2777494d145e3e3926f9326206    9\n",
       "7b4b055f76957e57d45efcefbd1dd2ee7500472d    9\n",
       "9a3b3b90c22db1b72af5af42330448cf946f9327    9\n",
       "d11533230d6a31bb38ff326c5f6371bfdddb2bd6    9\n",
       "                                           ..\n",
       "71e81c5eefeb52cc7ee921b09318ae80bca52766    1\n",
       "1706abd616f99be43f8da04d4ddfca25745e0d08    1\n",
       "4ad8c8cde1c8f3f7fe7dea2d7ba8595a9457d8de    1\n",
       "13eed46aa5d255ef29fe72b9bf4390c7688b9a88    1\n",
       "9d4f802778149000689857662e4131d31a4f177c    1\n",
       "26dd5d5206f309d9b9b35a178048eeb97d925ec7    1\n",
       "350613de88a6bd926f3cdae06a3a9cf902df7924    1\n",
       "a122d671715512bd0b5fc5187fdb8b58d11c5b3b    1\n",
       "5a11d2cbe1a3a15bed1009df1dcd106197b74150    1\n",
       "978f90e9a55304948143b0247acca68f349cc7e1    1\n",
       "bb9cddb710deb61260bbdf06a61a0d40eb1be801    1\n",
       "8ab429ebd23d5d35296ae5527e7286ffed1e5cd0    1\n",
       "de8196db847402df4f30f10b7c0f9d6db7a6da44    1\n",
       "40efd1698bd45047fc46510edc6c41a26e3679ac    1\n",
       "9669fbbb258ef690e691869d8b164b2af4c9848b    1\n",
       "cdb5509a5c280387b1219266a3f1b927a154eed4    1\n",
       "f46f57fbf240c568a5fa8daef62a952a29c7cd8f    1\n",
       "8083c716afce0bba36e85c58fd2a8f8b9b48fd6f    1\n",
       "d2723d9aa3c124b7468597150971edffe58f46d1    1\n",
       "0b246ba936dfd72cda4b02c239867d6e6bf86f7b    1\n",
       "37226bb021f178d107f601c11d011435ac5cf615    1\n",
       "fb3a667282f44f51d4457b9f5516dd11c1ee0288    1\n",
       "590cf390e370a2530474fad91808d5b40498888e    1\n",
       "dcd6eb64d16349da42ce4cda4303ced258f89ea9    1\n",
       "0ec813dbfc0e0a4b6829a96091de03f513980f20    1\n",
       "7e43592ae43a9c690a2e400f257507023999fc5e    1\n",
       "d174ffa75aa4586afd691f55e2b8ca965b668938    1\n",
       "f41910212ea14f1b61418b6e140501f40e817aeb    1\n",
       "5a2b7c14545be229010f47ba7d5339ac75636eb8    1\n",
       "2956719c2e536888d8e64b2185b06b5a9be9b176    1\n",
       "dtype: int64"
      ]
     },
     "execution_count": 48,
     "metadata": {},
     "output_type": "execute_result"
    }
   ],
   "source": [
    "# check the counts on the new dataframe with the biggest at the top\n",
    "# 9 is the max as expected\n",
    "weekly_user_pop_dedupe['user_id'].value_counts(ascending=False)"
   ]
  },
  {
   "cell_type": "code",
   "execution_count": 52,
   "metadata": {
    "collapsed": false
   },
   "outputs": [
    {
     "data": {
      "text/plain": [
       "week_id     0\n",
       "user_id     0\n",
       "user_age    0\n",
       "dtype: int64"
      ]
     },
     "execution_count": 52,
     "metadata": {},
     "output_type": "execute_result"
    }
   ],
   "source": [
    "# value_counts only includes non-missings so let's see if there's missing data in the weekly user pop\n",
    "# no missings\n",
    "weekly_user_pop_dedupe.isnull().sum()"
   ]
  },
  {
   "cell_type": "code",
   "execution_count": 91,
   "metadata": {
    "collapsed": false
   },
   "outputs": [
    {
     "data": {
      "text/plain": [
       "user_id        0\n",
       "week_index     0\n",
       "was_shipped    0\n",
       "dtype: int64"
      ]
     },
     "execution_count": 91,
     "metadata": {},
     "output_type": "execute_result"
    }
   ],
   "source": [
    "# try the same on the user history\n",
    "# none here either\n",
    "user_history.isnull().sum()"
   ]
  },
  {
   "cell_type": "code",
   "execution_count": 50,
   "metadata": {
    "collapsed": false
   },
   "outputs": [
    {
     "data": {
      "text/html": [
       "<div>\n",
       "<table border=\"1\" class=\"dataframe\">\n",
       "  <thead>\n",
       "    <tr style=\"text-align: right;\">\n",
       "      <th></th>\n",
       "      <th>week_id</th>\n",
       "      <th>total_orders</th>\n",
       "    </tr>\n",
       "  </thead>\n",
       "  <tbody>\n",
       "    <tr>\n",
       "      <th>0</th>\n",
       "      <td>A</td>\n",
       "      <td>45743</td>\n",
       "    </tr>\n",
       "    <tr>\n",
       "      <th>1</th>\n",
       "      <td>B</td>\n",
       "      <td>46911</td>\n",
       "    </tr>\n",
       "    <tr>\n",
       "      <th>2</th>\n",
       "      <td>C</td>\n",
       "      <td>50322</td>\n",
       "    </tr>\n",
       "    <tr>\n",
       "      <th>3</th>\n",
       "      <td>D</td>\n",
       "      <td>51109</td>\n",
       "    </tr>\n",
       "    <tr>\n",
       "      <th>4</th>\n",
       "      <td>E</td>\n",
       "      <td>52755</td>\n",
       "    </tr>\n",
       "    <tr>\n",
       "      <th>5</th>\n",
       "      <td>F</td>\n",
       "      <td>53490</td>\n",
       "    </tr>\n",
       "    <tr>\n",
       "      <th>6</th>\n",
       "      <td>G</td>\n",
       "      <td>57781</td>\n",
       "    </tr>\n",
       "    <tr>\n",
       "      <th>7</th>\n",
       "      <td>H</td>\n",
       "      <td>58330</td>\n",
       "    </tr>\n",
       "    <tr>\n",
       "      <th>8</th>\n",
       "      <td>I</td>\n",
       "      <td>54857</td>\n",
       "    </tr>\n",
       "  </tbody>\n",
       "</table>\n",
       "</div>"
      ],
      "text/plain": [
       "  week_id  total_orders\n",
       "0       A         45743\n",
       "1       B         46911\n",
       "2       C         50322\n",
       "3       D         51109\n",
       "4       E         52755\n",
       "5       F         53490\n",
       "6       G         57781\n",
       "7       H         58330\n",
       "8       I         54857"
      ]
     },
     "execution_count": 50,
     "metadata": {},
     "output_type": "execute_result"
    }
   ],
   "source": [
    "# look at weekly orders, should be a tiny dataset\n",
    "weekly_orders"
   ]
  },
  {
   "cell_type": "code",
   "execution_count": 86,
   "metadata": {
    "collapsed": false
   },
   "outputs": [
    {
     "name": "stdout",
     "output_type": "stream",
     "text": [
      "size of weekly_users_only: (194229, 1)\n",
      "size of history_users_only: (162973, 1)\n"
     ]
    }
   ],
   "source": [
    "# Are the users the same in the two datasets?\n",
    "# Get unique users from both\n",
    "weekly_users_only = pd.DataFrame(weekly_user_pop_dedupe['user_id'].drop_duplicates())\n",
    "history_users_only = pd.DataFrame(user_history['user_id'].drop_duplicates())\n",
    "print \"size of weekly_users_only:\",weekly_users_only.shape\n",
    "print \"size of history_users_only:\",history_users_only.shape"
   ]
  },
  {
   "cell_type": "code",
   "execution_count": 129,
   "metadata": {
    "collapsed": false
   },
   "outputs": [
    {
     "name": "stdout",
     "output_type": "stream",
     "text": [
      " size of combined_users: (61693, 1)\n"
     ]
    }
   ],
   "source": [
    "# Combine them using an inner join to see the overlap\n",
    "# So there's 60k with at least one week in common\n",
    "combined_users = pd.merge(weekly_users_only, history_users_only, on='user_id', how='inner')\n",
    "print \"size of combined_users:\",combined_users.shape"
   ]
  },
  {
   "cell_type": "code",
   "execution_count": null,
   "metadata": {
    "collapsed": true
   },
   "outputs": [],
   "source": []
  }
 ],
 "metadata": {
  "kernelspec": {
   "display_name": "Python 2",
   "language": "python",
   "name": "python2"
  },
  "language_info": {
   "codemirror_mode": {
    "name": "ipython",
    "version": 2
   },
   "file_extension": ".py",
   "mimetype": "text/x-python",
   "name": "python",
   "nbconvert_exporter": "python",
   "pygments_lexer": "ipython2",
   "version": "2.7.10"
  }
 },
 "nbformat": 4,
 "nbformat_minor": 0
}
